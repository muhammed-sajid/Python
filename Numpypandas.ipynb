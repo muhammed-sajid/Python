{
  "nbformat": 4,
  "nbformat_minor": 0,
  "metadata": {
    "colab": {
      "provenance": [],
      "authorship_tag": "ABX9TyMpgJyAQq8T++if1bUS0GwS",
      "include_colab_link": true
    },
    "kernelspec": {
      "name": "python3",
      "display_name": "Python 3"
    },
    "language_info": {
      "name": "python"
    }
  },
  "cells": [
    {
      "cell_type": "markdown",
      "metadata": {
        "id": "view-in-github",
        "colab_type": "text"
      },
      "source": [
        "<a href=\"https://colab.research.google.com/github/muhammed-sajid/Python/blob/main/Numpypandas.ipynb\" target=\"_parent\"><img src=\"https://colab.research.google.com/assets/colab-badge.svg\" alt=\"Open In Colab\"/></a>"
      ]
    },
    {
      "cell_type": "markdown",
      "source": [
        "**Exercise 1**\n",
        "Create a numpy array containing the numbers from 1 to 10, and then reshape it to a 2x5 matrix."
      ],
      "metadata": {
        "id": "02LT8PhgQC9g"
      }
    },
    {
      "cell_type": "code",
      "execution_count": null,
      "metadata": {
        "colab": {
          "base_uri": "https://localhost:8080/"
        },
        "id": "Tb38h8tTP0l4",
        "outputId": "f2f2fbb8-8edb-4eba-bdc8-dfcb6803bc34"
      },
      "outputs": [
        {
          "output_type": "stream",
          "name": "stdout",
          "text": [
            "2*5 Matrix\n",
            "[[ 1  2  3  4  5]\n",
            " [ 6  7  8  9 10]]\n"
          ]
        }
      ],
      "source": [
        "import numpy as np\n",
        "\n",
        "arr = np.arange(1, 11)\n",
        "matrix = arr.reshape(2,5)\n",
        "print(\"2*5 Matrix\")\n",
        "print(matrix)"
      ]
    },
    {
      "cell_type": "markdown",
      "source": [
        "**Exercise 2**\n",
        "Create a numpy array containing the numbers from 1 to 20, and then extract the elements between the 5th and 15th index."
      ],
      "metadata": {
        "id": "hjF7zbfvRHd4"
      }
    },
    {
      "cell_type": "code",
      "source": [
        "arr = np.arange(1,21)\n",
        "extract = arr[5:16]\n",
        "print(\"Extracted elements\")\n",
        "print(extract)\n"
      ],
      "metadata": {
        "colab": {
          "base_uri": "https://localhost:8080/"
        },
        "id": "gMvywQfNRRmC",
        "outputId": "091692ba-15ce-4bb1-ce4a-a2c537925fdb"
      },
      "execution_count": null,
      "outputs": [
        {
          "output_type": "stream",
          "name": "stdout",
          "text": [
            "Extracted elements\n",
            "[ 6  7  8  9 10 11 12 13 14 15 16]\n"
          ]
        }
      ]
    },
    {
      "cell_type": "markdown",
      "source": [
        "**Exercise 3**\n",
        "Create a Pandas series with the following data: {'apples': 3, 'bananas': 2, 'oranges': 1}. Then, add a new item to the series with the key 'pears' and the value 4."
      ],
      "metadata": {
        "id": "O2vYPY4gSjLL"
      }
    },
    {
      "cell_type": "code",
      "source": [
        "import pandas as pd\n",
        "\n",
        "Series = pd.Series({'apples':3, 'banana':2, 'oranges':1 })\n",
        "print(Series)\n",
        "Series['pears'] = 4\n",
        "print(\"\\nUpdated Series\")\n",
        "print(Series)"
      ],
      "metadata": {
        "colab": {
          "base_uri": "https://localhost:8080/"
        },
        "id": "sxlKcdQ1Srpy",
        "outputId": "a4d38fd2-e14f-495b-9f66-bd5843762ea7"
      },
      "execution_count": null,
      "outputs": [
        {
          "output_type": "stream",
          "name": "stdout",
          "text": [
            "apples     3\n",
            "banana     2\n",
            "oranges    1\n",
            "dtype: int64\n",
            "\n",
            "Updated Series\n",
            "apples     3\n",
            "banana     2\n",
            "oranges    1\n",
            "pears      4\n",
            "dtype: int64\n"
          ]
        }
      ]
    },
    {
      "cell_type": "markdown",
      "source": [
        "**Exercise 4**\n",
        "Create a dataframe with the following columns: name, age, and gender. The dataframe should have 10 rows of data.\n"
      ],
      "metadata": {
        "id": "e6RggTSTUwzn"
      }
    },
    {
      "cell_type": "code",
      "source": [
        "data = {\n",
        "    'name' : [f\"Person {i+1}\" for i in range(10)],\n",
        "    'age'  : np.random.randint(18,65, size = 10),\n",
        "    'gender':['Male','Female']*5\n",
        "}\n",
        "dataf = pd.DataFrame(data)\n",
        "print(dataf)"
      ],
      "metadata": {
        "colab": {
          "base_uri": "https://localhost:8080/"
        },
        "id": "7sIPZrnRU5G8",
        "outputId": "e9202960-e7bd-4aa0-f04d-634397ae8ccc"
      },
      "execution_count": null,
      "outputs": [
        {
          "output_type": "stream",
          "name": "stdout",
          "text": [
            "        name  age  gender\n",
            "0   Person 1   18    Male\n",
            "1   Person 2   37  Female\n",
            "2   Person 3   53    Male\n",
            "3   Person 4   43  Female\n",
            "4   Person 5   20    Male\n",
            "5   Person 6   42  Female\n",
            "6   Person 7   46    Male\n",
            "7   Person 8   27  Female\n",
            "8   Person 9   39    Male\n",
            "9  Person 10   47  Female\n"
          ]
        }
      ]
    },
    {
      "cell_type": "code",
      "source": [
        "data1 = {\n",
        "    'name' : ['Shyam','Ram','Alice','Shyama','Sidharth','Fathima','Zakariya','Sideek','Abhiram','Ramya'],\n",
        "    'age' : [18,25,23,28,36,20,27,39,47,43],\n",
        "    'genger':['Male','Male','Female','Female','Male','Female','Male','Male','Male','Female']}\n",
        "df = pd.DataFrame(data1)\n",
        "print(df)"
      ],
      "metadata": {
        "colab": {
          "base_uri": "https://localhost:8080/"
        },
        "id": "aj_RThRMXv26",
        "outputId": "d633dddc-a5c8-4c10-cc77-c20504f41f31"
      },
      "execution_count": null,
      "outputs": [
        {
          "output_type": "stream",
          "name": "stdout",
          "text": [
            "       name  age  genger\n",
            "0     Shyam   18    Male\n",
            "1       Ram   25    Male\n",
            "2     Alice   23  Female\n",
            "3    Shyama   28  Female\n",
            "4  Sidharth   36    Male\n",
            "5   Fathima   20  Female\n",
            "6  Zakariya   27    Male\n",
            "7    Sideek   39    Male\n",
            "8   Abhiram   47    Male\n",
            "9     Ramya   43  Female\n"
          ]
        }
      ]
    },
    {
      "cell_type": "markdown",
      "source": [
        "**Exercise 5**\n",
        "\n",
        "Add a new column to the data frame created in question 1, called occupation. The values for this column should be Programmer, Manager, and Analyst, corresponding to the rows in the dataframe."
      ],
      "metadata": {
        "id": "iRQuHToCacRD"
      }
    },
    {
      "cell_type": "code",
      "source": [
        "\n",
        "\n",
        "df['occupation'] = ['Programmer', 'Manager', 'Analyst'] * (len(df) // 3) + ['programmer'][:len(df) % 3]\n",
        "print(df)"
      ],
      "metadata": {
        "colab": {
          "base_uri": "https://localhost:8080/"
        },
        "id": "KZ9lmoOMancl",
        "outputId": "acf08d5d-ded8-40aa-c560-3d9d8481fd97"
      },
      "execution_count": null,
      "outputs": [
        {
          "output_type": "stream",
          "name": "stdout",
          "text": [
            "       name  age  genger  occupation\n",
            "0     Shyam   18    Male  Programmer\n",
            "1       Ram   25    Male     Manager\n",
            "2     Alice   23  Female     Analyst\n",
            "3    Shyama   28  Female  Programmer\n",
            "4  Sidharth   36    Male     Manager\n",
            "5   Fathima   20  Female     Analyst\n",
            "6  Zakariya   27    Male  Programmer\n",
            "7    Sideek   39    Male     Manager\n",
            "8   Abhiram   47    Male     Analyst\n",
            "9     Ramya   43  Female  programmer\n"
          ]
        }
      ]
    },
    {
      "cell_type": "markdown",
      "source": [
        "**Exercise 6**\n",
        "\n",
        "Select the rows of the dataframe where the age is greater than or equal to 30."
      ],
      "metadata": {
        "id": "MsaRnBq1c8wk"
      }
    },
    {
      "cell_type": "code",
      "source": [
        "filtered_df = df[df['age']>=30]\n",
        "print(\"Filtered DataFrame\")\n",
        "print(filtered_df)"
      ],
      "metadata": {
        "colab": {
          "base_uri": "https://localhost:8080/"
        },
        "id": "CMMX6HpqdA93",
        "outputId": "46c00625-d094-42c9-ec47-01593e8bd7dc"
      },
      "execution_count": null,
      "outputs": [
        {
          "output_type": "stream",
          "name": "stdout",
          "text": [
            "Filtered DataFrame\n",
            "       name  age  genger  occupation\n",
            "4  Sidharth   36    Male     Manager\n",
            "7    Sideek   39    Male     Manager\n",
            "8   Abhiram   47    Male     Analyst\n",
            "9     Ramya   43  Female  programmer\n"
          ]
        }
      ]
    },
    {
      "cell_type": "markdown",
      "source": [
        "**Exercise 7**\n",
        "\n",
        "Convert this dataframe to a csv file and read that csv file, finally display the contents."
      ],
      "metadata": {
        "id": "M0-oL_J1dfZr"
      }
    },
    {
      "cell_type": "code",
      "source": [
        "csv_file =\"Dataframe.csv\"\n",
        "df.to_csv(csv_file, index = False)\n",
        "read_df = pd.read_csv(csv_file)\n",
        "print(\"Loaded DataFrame From csv\")\n",
        "print(read_df)"
      ],
      "metadata": {
        "colab": {
          "base_uri": "https://localhost:8080/"
        },
        "id": "osJQhHkMdkRo",
        "outputId": "74c3185b-fd39-4a07-ec30-50accea74a42"
      },
      "execution_count": null,
      "outputs": [
        {
          "output_type": "stream",
          "name": "stdout",
          "text": [
            "Loaded DataFrame From csv\n",
            "       name  age  genger  occupation\n",
            "0     Shyam   18    Male  Programmer\n",
            "1       Ram   25    Male     Manager\n",
            "2     Alice   23  Female     Analyst\n",
            "3    Shyama   28  Female  Programmer\n",
            "4  Sidharth   36    Male     Manager\n",
            "5   Fathima   20  Female     Analyst\n",
            "6  Zakariya   27    Male  Programmer\n",
            "7    Sideek   39    Male     Manager\n",
            "8   Abhiram   47    Male     Analyst\n",
            "9     Ramya   43  Female  programmer\n"
          ]
        }
      ]
    }
  ]
}