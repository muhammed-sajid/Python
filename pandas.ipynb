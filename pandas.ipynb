{
  "nbformat": 4,
  "nbformat_minor": 0,
  "metadata": {
    "colab": {
      "provenance": [],
      "authorship_tag": "ABX9TyPZjIhFrzOe+7AxFMVbnmGp",
      "include_colab_link": true
    },
    "kernelspec": {
      "name": "python3",
      "display_name": "Python 3"
    },
    "language_info": {
      "name": "python"
    }
  },
  "cells": [
    {
      "cell_type": "markdown",
      "metadata": {
        "id": "view-in-github",
        "colab_type": "text"
      },
      "source": [
        "<a href=\"https://colab.research.google.com/github/muhammed-sajid/Python/blob/main/pandas.ipynb\" target=\"_parent\"><img src=\"https://colab.research.google.com/assets/colab-badge.svg\" alt=\"Open In Colab\"/></a>"
      ]
    },
    {
      "cell_type": "markdown",
      "source": [
        "**Load Dataset**"
      ],
      "metadata": {
        "id": "Rj4hh0j2V3Hw"
      }
    },
    {
      "cell_type": "code",
      "execution_count": 2,
      "metadata": {
        "colab": {
          "base_uri": "https://localhost:8080/"
        },
        "id": "lpzQ8x_SUozs",
        "outputId": "c7d73cc1-55d0-4212-f45f-349209c368a0"
      },
      "outputs": [
        {
          "output_type": "stream",
          "name": "stdout",
          "text": [
            "   Passengerid   Age     Fare  Sex  sibsp  zero  zero.1  zero.2  zero.3  \\\n",
            "0            1  22.0   7.2500    0      1     0       0       0       0   \n",
            "1            2  38.0  71.2833    1      1     0       0       0       0   \n",
            "2            3  26.0   7.9250    1      0     0       0       0       0   \n",
            "3            4  35.0  53.1000    1      1     0       0       0       0   \n",
            "4            5  35.0   8.0500    0      0     0       0       0       0   \n",
            "\n",
            "   zero.4  ...  zero.12  zero.13  zero.14  Pclass  zero.15  zero.16  Embarked  \\\n",
            "0       0  ...        0        0        0       3        0        0       2.0   \n",
            "1       0  ...        0        0        0       1        0        0       0.0   \n",
            "2       0  ...        0        0        0       3        0        0       2.0   \n",
            "3       0  ...        0        0        0       1        0        0       2.0   \n",
            "4       0  ...        0        0        0       3        0        0       2.0   \n",
            "\n",
            "   zero.17  zero.18  2urvived  \n",
            "0        0        0         0  \n",
            "1        0        0         1  \n",
            "2        0        0         1  \n",
            "3        0        0         1  \n",
            "4        0        0         0  \n",
            "\n",
            "[5 rows x 28 columns]\n"
          ]
        }
      ],
      "source": [
        "import pandas as pd\n",
        "\n",
        "df = pd.read_csv('train_and_test2.csv')\n",
        "print(df.head())"
      ]
    },
    {
      "cell_type": "markdown",
      "source": [
        "**Print First 10 Rows**"
      ],
      "metadata": {
        "id": "b5zlHMthV-xZ"
      }
    },
    {
      "cell_type": "code",
      "source": [
        "print(df.head(10))"
      ],
      "metadata": {
        "colab": {
          "base_uri": "https://localhost:8080/"
        },
        "id": "CU3vSZkgVmP0",
        "outputId": "1eebb51b-8a20-461d-c191-d0870d3b0f0d"
      },
      "execution_count": 4,
      "outputs": [
        {
          "output_type": "stream",
          "name": "stdout",
          "text": [
            "\n",
            " print first 10 rows.\n",
            "   Passengerid   Age     Fare  Sex  sibsp  zero  zero.1  zero.2  zero.3  \\\n",
            "0            1  22.0   7.2500    0      1     0       0       0       0   \n",
            "1            2  38.0  71.2833    1      1     0       0       0       0   \n",
            "2            3  26.0   7.9250    1      0     0       0       0       0   \n",
            "3            4  35.0  53.1000    1      1     0       0       0       0   \n",
            "4            5  35.0   8.0500    0      0     0       0       0       0   \n",
            "5            6  28.0   8.4583    0      0     0       0       0       0   \n",
            "6            7  54.0  51.8625    0      0     0       0       0       0   \n",
            "7            8   2.0  21.0750    0      3     0       0       0       0   \n",
            "8            9  27.0  11.1333    1      0     0       0       0       0   \n",
            "9           10  14.0  30.0708    1      1     0       0       0       0   \n",
            "\n",
            "   zero.4  ...  zero.12  zero.13  zero.14  Pclass  zero.15  zero.16  Embarked  \\\n",
            "0       0  ...        0        0        0       3        0        0       2.0   \n",
            "1       0  ...        0        0        0       1        0        0       0.0   \n",
            "2       0  ...        0        0        0       3        0        0       2.0   \n",
            "3       0  ...        0        0        0       1        0        0       2.0   \n",
            "4       0  ...        0        0        0       3        0        0       2.0   \n",
            "5       0  ...        0        0        0       3        0        0       1.0   \n",
            "6       0  ...        0        0        0       1        0        0       2.0   \n",
            "7       0  ...        0        0        0       3        0        0       2.0   \n",
            "8       0  ...        0        0        0       3        0        0       2.0   \n",
            "9       0  ...        0        0        0       2        0        0       0.0   \n",
            "\n",
            "   zero.17  zero.18  2urvived  \n",
            "0        0        0         0  \n",
            "1        0        0         1  \n",
            "2        0        0         1  \n",
            "3        0        0         1  \n",
            "4        0        0         0  \n",
            "5        0        0         0  \n",
            "6        0        0         0  \n",
            "7        0        0         0  \n",
            "8        0        0         1  \n",
            "9        0        0         1  \n",
            "\n",
            "[10 rows x 28 columns]\n"
          ]
        }
      ]
    },
    {
      "cell_type": "markdown",
      "source": [
        "**Descriptive Statistics:**\n",
        "\n"
      ],
      "metadata": {
        "id": "-LtE5ao8WJow"
      }
    },
    {
      "cell_type": "code",
      "source": [
        "print(df.describe())"
      ],
      "metadata": {
        "colab": {
          "base_uri": "https://localhost:8080/"
        },
        "id": "jpiULO5NU5SH",
        "outputId": "45acc2a8-3bf6-4898-b098-6163d64b59d9"
      },
      "execution_count": 3,
      "outputs": [
        {
          "output_type": "stream",
          "name": "stdout",
          "text": [
            "\n",
            " Descriptive Statistics:\n",
            "       Passengerid          Age         Fare          Sex        sibsp  \\\n",
            "count  1309.000000  1309.000000  1309.000000  1309.000000  1309.000000   \n",
            "mean    655.000000    29.503186    33.281086     0.355997     0.498854   \n",
            "std     378.020061    12.905241    51.741500     0.478997     1.041658   \n",
            "min       1.000000     0.170000     0.000000     0.000000     0.000000   \n",
            "25%     328.000000    22.000000     7.895800     0.000000     0.000000   \n",
            "50%     655.000000    28.000000    14.454200     0.000000     0.000000   \n",
            "75%     982.000000    35.000000    31.275000     1.000000     1.000000   \n",
            "max    1309.000000    80.000000   512.329200     1.000000     8.000000   \n",
            "\n",
            "         zero  zero.1  zero.2  zero.3  zero.4  ...  zero.12  zero.13  zero.14  \\\n",
            "count  1309.0  1309.0  1309.0  1309.0  1309.0  ...   1309.0   1309.0   1309.0   \n",
            "mean      0.0     0.0     0.0     0.0     0.0  ...      0.0      0.0      0.0   \n",
            "std       0.0     0.0     0.0     0.0     0.0  ...      0.0      0.0      0.0   \n",
            "min       0.0     0.0     0.0     0.0     0.0  ...      0.0      0.0      0.0   \n",
            "25%       0.0     0.0     0.0     0.0     0.0  ...      0.0      0.0      0.0   \n",
            "50%       0.0     0.0     0.0     0.0     0.0  ...      0.0      0.0      0.0   \n",
            "75%       0.0     0.0     0.0     0.0     0.0  ...      0.0      0.0      0.0   \n",
            "max       0.0     0.0     0.0     0.0     0.0  ...      0.0      0.0      0.0   \n",
            "\n",
            "            Pclass  zero.15  zero.16     Embarked  zero.17  zero.18  \\\n",
            "count  1309.000000   1309.0   1309.0  1307.000000   1309.0   1309.0   \n",
            "mean      2.294882      0.0      0.0     1.492731      0.0      0.0   \n",
            "std       0.837836      0.0      0.0     0.814626      0.0      0.0   \n",
            "min       1.000000      0.0      0.0     0.000000      0.0      0.0   \n",
            "25%       2.000000      0.0      0.0     1.000000      0.0      0.0   \n",
            "50%       3.000000      0.0      0.0     2.000000      0.0      0.0   \n",
            "75%       3.000000      0.0      0.0     2.000000      0.0      0.0   \n",
            "max       3.000000      0.0      0.0     2.000000      0.0      0.0   \n",
            "\n",
            "          2urvived  \n",
            "count  1309.000000  \n",
            "mean      0.261268  \n",
            "std       0.439494  \n",
            "min       0.000000  \n",
            "25%       0.000000  \n",
            "50%       0.000000  \n",
            "75%       1.000000  \n",
            "max       1.000000  \n",
            "\n",
            "[8 rows x 28 columns]\n"
          ]
        }
      ]
    },
    {
      "cell_type": "markdown",
      "source": [
        "**Mean Age**"
      ],
      "metadata": {
        "id": "8MyX5wJNWTc-"
      }
    },
    {
      "cell_type": "code",
      "source": [
        "print(df['Age'].mean())"
      ],
      "metadata": {
        "colab": {
          "base_uri": "https://localhost:8080/"
        },
        "id": "1DF5tvK_WaCe",
        "outputId": "faf92e14-1577-45a1-ff89-1c50de312383"
      },
      "execution_count": 6,
      "outputs": [
        {
          "output_type": "stream",
          "name": "stdout",
          "text": [
            "29.50318563789152\n"
          ]
        }
      ]
    },
    {
      "cell_type": "markdown",
      "source": [
        "**Minimum Age**"
      ],
      "metadata": {
        "id": "mf7ciBxiWker"
      }
    },
    {
      "cell_type": "code",
      "source": [
        "print(df['Age'].min())"
      ],
      "metadata": {
        "colab": {
          "base_uri": "https://localhost:8080/"
        },
        "id": "_eNZ98D-WrQ6",
        "outputId": "8f3d983c-454d-49d7-a9c0-d7d8e42130d4"
      },
      "execution_count": 7,
      "outputs": [
        {
          "output_type": "stream",
          "name": "stdout",
          "text": [
            "0.17\n"
          ]
        }
      ]
    },
    {
      "cell_type": "markdown",
      "source": [
        "**Maximum Age**"
      ],
      "metadata": {
        "id": "440j-7_fWw7H"
      }
    },
    {
      "cell_type": "code",
      "source": [
        "print(df['Age'].max())"
      ],
      "metadata": {
        "colab": {
          "base_uri": "https://localhost:8080/"
        },
        "id": "NOF26FDcW2JG",
        "outputId": "4ef094bf-d8f7-47b5-d2cc-d6105e56b72c"
      },
      "execution_count": 8,
      "outputs": [
        {
          "output_type": "stream",
          "name": "stdout",
          "text": [
            "80.0\n"
          ]
        }
      ]
    },
    {
      "cell_type": "markdown",
      "source": [
        "**Passanger older than 30**"
      ],
      "metadata": {
        "id": "vU_hC261XBTv"
      }
    },
    {
      "cell_type": "code",
      "source": [
        "old_passanger = df[df['Age'] > 30]\n",
        "print(old_passanger.head(10))"
      ],
      "metadata": {
        "colab": {
          "base_uri": "https://localhost:8080/"
        },
        "id": "aIV0OUo3XHAL",
        "outputId": "b0144e2b-feea-44af-8edd-67615ce06430"
      },
      "execution_count": 9,
      "outputs": [
        {
          "output_type": "stream",
          "name": "stdout",
          "text": [
            "    Passengerid   Age     Fare  Sex  sibsp  zero  zero.1  zero.2  zero.3  \\\n",
            "1             2  38.0  71.2833    1      1     0       0       0       0   \n",
            "3             4  35.0  53.1000    1      1     0       0       0       0   \n",
            "4             5  35.0   8.0500    0      0     0       0       0       0   \n",
            "6             7  54.0  51.8625    0      0     0       0       0       0   \n",
            "11           12  58.0  26.5500    1      0     0       0       0       0   \n",
            "13           14  39.0  31.2750    0      1     0       0       0       0   \n",
            "15           16  55.0  16.0000    1      0     0       0       0       0   \n",
            "18           19  31.0  18.0000    1      1     0       0       0       0   \n",
            "20           21  35.0  26.0000    0      0     0       0       0       0   \n",
            "21           22  34.0  13.0000    0      0     0       0       0       0   \n",
            "\n",
            "    zero.4  ...  zero.12  zero.13  zero.14  Pclass  zero.15  zero.16  \\\n",
            "1        0  ...        0        0        0       1        0        0   \n",
            "3        0  ...        0        0        0       1        0        0   \n",
            "4        0  ...        0        0        0       3        0        0   \n",
            "6        0  ...        0        0        0       1        0        0   \n",
            "11       0  ...        0        0        0       1        0        0   \n",
            "13       0  ...        0        0        0       3        0        0   \n",
            "15       0  ...        0        0        0       2        0        0   \n",
            "18       0  ...        0        0        0       3        0        0   \n",
            "20       0  ...        0        0        0       2        0        0   \n",
            "21       0  ...        0        0        0       2        0        0   \n",
            "\n",
            "    Embarked  zero.17  zero.18  2urvived  \n",
            "1        0.0        0        0         1  \n",
            "3        2.0        0        0         1  \n",
            "4        2.0        0        0         0  \n",
            "6        2.0        0        0         0  \n",
            "11       2.0        0        0         1  \n",
            "13       2.0        0        0         0  \n",
            "15       2.0        0        0         1  \n",
            "18       2.0        0        0         0  \n",
            "20       2.0        0        0         0  \n",
            "21       2.0        0        0         1  \n",
            "\n",
            "[10 rows x 28 columns]\n"
          ]
        }
      ]
    }
  ]
}