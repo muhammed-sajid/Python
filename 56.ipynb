{
  "nbformat": 4,
  "nbformat_minor": 0,
  "metadata": {
    "colab": {
      "provenance": [],
      "authorship_tag": "ABX9TyM9Qr5eNeA5aNEeZTzEsJmP",
      "include_colab_link": true
    },
    "kernelspec": {
      "name": "python3",
      "display_name": "Python 3"
    },
    "language_info": {
      "name": "python"
    }
  },
  "cells": [
    {
      "cell_type": "markdown",
      "metadata": {
        "id": "view-in-github",
        "colab_type": "text"
      },
      "source": [
        "<a href=\"https://colab.research.google.com/github/muhammed-sajid/Python/blob/main/56.ipynb\" target=\"_parent\"><img src=\"https://colab.research.google.com/assets/colab-badge.svg\" alt=\"Open In Colab\"/></a>"
      ]
    },
    {
      "cell_type": "code",
      "execution_count": 12,
      "metadata": {
        "colab": {
          "base_uri": "https://localhost:8080/"
        },
        "id": "QXSlojB00IQm",
        "outputId": "4e968024-c764-4eaf-9e05-3f9e4e8f2bfd"
      },
      "outputs": [
        {
          "output_type": "stream",
          "name": "stdout",
          "text": [
            "Survived Rate by Gender.\n",
            "Sex\n",
            "female    74.203822\n",
            "male      18.890815\n",
            "Name: Survived, dtype: float64\n"
          ]
        }
      ],
      "source": [
        "import pandas as pd\n",
        "\n",
        "data = pd.read_csv('train.csv')\n",
        "\n",
        "\n",
        "#Group the Titanic dataset by gender and calculate the survival rate for each gender.\n",
        "gender_survival_rate = data.groupby('Sex')['Survived'].mean() * 100\n",
        "print(\"Survived Rate by Gender.\")\n",
        "print(gender_survival_rate)\n"
      ]
    },
    {
      "cell_type": "code",
      "source": [
        "#Find the average fare for each class of passengers\n",
        "\n",
        "average_fare_by_class = data.groupby('Pclass')['Fare'].mean()\n",
        "print(\"Average Fare by Class\")\n",
        "print(average_fare_by_class)"
      ],
      "metadata": {
        "colab": {
          "base_uri": "https://localhost:8080/"
        },
        "id": "DZYY_DUh1nGv",
        "outputId": "a910a1db-08af-4845-b421-96fc731ed7d2"
      },
      "execution_count": 9,
      "outputs": [
        {
          "output_type": "stream",
          "name": "stdout",
          "text": [
            "Average Fare by Class\n",
            "Pclass\n",
            "1    84.154687\n",
            "2    20.662183\n",
            "3    13.675550\n",
            "Name: Fare, dtype: float64\n"
          ]
        }
      ]
    }
  ]
}